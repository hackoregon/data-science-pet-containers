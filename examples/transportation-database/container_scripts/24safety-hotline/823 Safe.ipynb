{
 "cells": [
  {
   "cell_type": "code",
   "execution_count": 16,
   "metadata": {},
   "outputs": [],
   "source": [
    "import pandas as pd\n",
    "import nltk\n",
    "import matplotlib\n",
    "import matplotlib.pyplot as plt"
   ]
  },
  {
   "cell_type": "code",
   "execution_count": 17,
   "metadata": {},
   "outputs": [
    {
     "name": "stdout",
     "output_type": "stream",
     "text": [
      "<class 'pandas.core.frame.DataFrame'>\n",
      "RangeIndex: 6066 entries, 0 to 6065\n",
      "Data columns (total 8 columns):\n",
      "Item_ID             6066 non-null int64\n",
      "Date_Created        6066 non-null object\n",
      "Description         6065 non-null object\n",
      "Problem_Location    6019 non-null object\n",
      "X                   6066 non-null float64\n",
      "Y                   6066 non-null float64\n",
      "Longitude           6066 non-null float64\n",
      "Latitude            6066 non-null float64\n",
      "dtypes: float64(4), int64(1), object(3)\n",
      "memory usage: 379.2+ KB\n"
     ]
    }
   ],
   "source": [
    "df=pd.read_csv('Safety_Hotline_Tickets.csv')\n",
    "df.info()"
   ]
  },
  {
   "cell_type": "code",
   "execution_count": 18,
   "metadata": {},
   "outputs": [
    {
     "data": {
      "text/html": [
       "<div>\n",
       "<style scoped>\n",
       "    .dataframe tbody tr th:only-of-type {\n",
       "        vertical-align: middle;\n",
       "    }\n",
       "\n",
       "    .dataframe tbody tr th {\n",
       "        vertical-align: top;\n",
       "    }\n",
       "\n",
       "    .dataframe thead th {\n",
       "        text-align: right;\n",
       "    }\n",
       "</style>\n",
       "<table border=\"1\" class=\"dataframe\">\n",
       "  <thead>\n",
       "    <tr style=\"text-align: right;\">\n",
       "      <th></th>\n",
       "      <th>Item_ID</th>\n",
       "      <th>Date_Created</th>\n",
       "      <th>Description</th>\n",
       "      <th>Problem_Location</th>\n",
       "      <th>X</th>\n",
       "      <th>Y</th>\n",
       "      <th>Longitude</th>\n",
       "      <th>Latitude</th>\n",
       "    </tr>\n",
       "  </thead>\n",
       "  <tbody>\n",
       "    <tr>\n",
       "      <th>0</th>\n",
       "      <td>212361</td>\n",
       "      <td>1/10/2008 0:00</td>\n",
       "      <td>Request signal.</td>\n",
       "      <td>SE 55TH AVE &amp; SE BELMONT ST</td>\n",
       "      <td>7662127.698</td>\n",
       "      <td>681495.143</td>\n",
       "      <td>-122.606820</td>\n",
       "      <td>45.516641</td>\n",
       "    </tr>\n",
       "    <tr>\n",
       "      <th>1</th>\n",
       "      <td>225059</td>\n",
       "      <td>3/13/2008 0:00</td>\n",
       "      <td>He requested a Control Plan to be drawn up by ...</td>\n",
       "      <td>SW 4TH AVE &amp; SW STARK ST</td>\n",
       "      <td>7644573.924</td>\n",
       "      <td>683377.729</td>\n",
       "      <td>-122.675475</td>\n",
       "      <td>45.520526</td>\n",
       "    </tr>\n",
       "    <tr>\n",
       "      <th>2</th>\n",
       "      <td>225063</td>\n",
       "      <td>3/13/2008 0:00</td>\n",
       "      <td>Wants to know why her street is being torn up ...</td>\n",
       "      <td>2314 SE 24TH AVE</td>\n",
       "      <td>7653283.000</td>\n",
       "      <td>677827.000</td>\n",
       "      <td>-122.640934</td>\n",
       "      <td>45.505946</td>\n",
       "    </tr>\n",
       "    <tr>\n",
       "      <th>3</th>\n",
       "      <td>226609</td>\n",
       "      <td>3/21/2008 0:00</td>\n",
       "      <td>There are only 3 stop signs at intersection an...</td>\n",
       "      <td>SE 8TH AVE &amp; SE WOODWARD ST</td>\n",
       "      <td>7648923.134</td>\n",
       "      <td>676541.521</td>\n",
       "      <td>-122.657800</td>\n",
       "      <td>45.502103</td>\n",
       "    </tr>\n",
       "    <tr>\n",
       "      <th>4</th>\n",
       "      <td>226619</td>\n",
       "      <td>3/21/2008 0:00</td>\n",
       "      <td>Requested that the diversion for traffic in he...</td>\n",
       "      <td>SE 58TH AVE &amp; SE HAWTHORNE BLVD</td>\n",
       "      <td>7662910.091</td>\n",
       "      <td>679723.179</td>\n",
       "      <td>-122.603589</td>\n",
       "      <td>45.511838</td>\n",
       "    </tr>\n",
       "  </tbody>\n",
       "</table>\n",
       "</div>"
      ],
      "text/plain": [
       "   Item_ID    Date_Created                                        Description  \\\n",
       "0   212361  1/10/2008 0:00                                    Request signal.   \n",
       "1   225059  3/13/2008 0:00  He requested a Control Plan to be drawn up by ...   \n",
       "2   225063  3/13/2008 0:00  Wants to know why her street is being torn up ...   \n",
       "3   226609  3/21/2008 0:00  There are only 3 stop signs at intersection an...   \n",
       "4   226619  3/21/2008 0:00  Requested that the diversion for traffic in he...   \n",
       "\n",
       "                  Problem_Location            X           Y   Longitude  \\\n",
       "0      SE 55TH AVE & SE BELMONT ST  7662127.698  681495.143 -122.606820   \n",
       "1         SW 4TH AVE & SW STARK ST  7644573.924  683377.729 -122.675475   \n",
       "2                 2314 SE 24TH AVE  7653283.000  677827.000 -122.640934   \n",
       "3      SE 8TH AVE & SE WOODWARD ST  7648923.134  676541.521 -122.657800   \n",
       "4  SE 58TH AVE & SE HAWTHORNE BLVD  7662910.091  679723.179 -122.603589   \n",
       "\n",
       "    Latitude  \n",
       "0  45.516641  \n",
       "1  45.520526  \n",
       "2  45.505946  \n",
       "3  45.502103  \n",
       "4  45.511838  "
      ]
     },
     "execution_count": 18,
     "metadata": {},
     "output_type": "execute_result"
    }
   ],
   "source": [
    "df.head()"
   ]
  },
  {
   "cell_type": "code",
   "execution_count": 19,
   "metadata": {},
   "outputs": [],
   "source": [
    "df['DATE'] =pd.to_datetime(df['Date_Created'])"
   ]
  },
  {
   "cell_type": "code",
   "execution_count": 20,
   "metadata": {},
   "outputs": [
    {
     "data": {
      "text/html": [
       "<div>\n",
       "<style scoped>\n",
       "    .dataframe tbody tr th:only-of-type {\n",
       "        vertical-align: middle;\n",
       "    }\n",
       "\n",
       "    .dataframe tbody tr th {\n",
       "        vertical-align: top;\n",
       "    }\n",
       "\n",
       "    .dataframe thead th {\n",
       "        text-align: right;\n",
       "    }\n",
       "</style>\n",
       "<table border=\"1\" class=\"dataframe\">\n",
       "  <thead>\n",
       "    <tr style=\"text-align: right;\">\n",
       "      <th></th>\n",
       "      <th>Item_ID</th>\n",
       "      <th>Date_Created</th>\n",
       "      <th>Description</th>\n",
       "      <th>Problem_Location</th>\n",
       "      <th>X</th>\n",
       "      <th>Y</th>\n",
       "      <th>Longitude</th>\n",
       "      <th>Latitude</th>\n",
       "      <th>DATE</th>\n",
       "    </tr>\n",
       "  </thead>\n",
       "  <tbody>\n",
       "    <tr>\n",
       "      <th>0</th>\n",
       "      <td>212361</td>\n",
       "      <td>1/10/2008 0:00</td>\n",
       "      <td>Request signal.</td>\n",
       "      <td>SE 55TH AVE &amp; SE BELMONT ST</td>\n",
       "      <td>7662127.698</td>\n",
       "      <td>681495.143</td>\n",
       "      <td>-122.606820</td>\n",
       "      <td>45.516641</td>\n",
       "      <td>2008-01-10</td>\n",
       "    </tr>\n",
       "    <tr>\n",
       "      <th>1</th>\n",
       "      <td>225059</td>\n",
       "      <td>3/13/2008 0:00</td>\n",
       "      <td>He requested a Control Plan to be drawn up by ...</td>\n",
       "      <td>SW 4TH AVE &amp; SW STARK ST</td>\n",
       "      <td>7644573.924</td>\n",
       "      <td>683377.729</td>\n",
       "      <td>-122.675475</td>\n",
       "      <td>45.520526</td>\n",
       "      <td>2008-03-13</td>\n",
       "    </tr>\n",
       "    <tr>\n",
       "      <th>2</th>\n",
       "      <td>225063</td>\n",
       "      <td>3/13/2008 0:00</td>\n",
       "      <td>Wants to know why her street is being torn up ...</td>\n",
       "      <td>2314 SE 24TH AVE</td>\n",
       "      <td>7653283.000</td>\n",
       "      <td>677827.000</td>\n",
       "      <td>-122.640934</td>\n",
       "      <td>45.505946</td>\n",
       "      <td>2008-03-13</td>\n",
       "    </tr>\n",
       "    <tr>\n",
       "      <th>3</th>\n",
       "      <td>226609</td>\n",
       "      <td>3/21/2008 0:00</td>\n",
       "      <td>There are only 3 stop signs at intersection an...</td>\n",
       "      <td>SE 8TH AVE &amp; SE WOODWARD ST</td>\n",
       "      <td>7648923.134</td>\n",
       "      <td>676541.521</td>\n",
       "      <td>-122.657800</td>\n",
       "      <td>45.502103</td>\n",
       "      <td>2008-03-21</td>\n",
       "    </tr>\n",
       "    <tr>\n",
       "      <th>4</th>\n",
       "      <td>226619</td>\n",
       "      <td>3/21/2008 0:00</td>\n",
       "      <td>Requested that the diversion for traffic in he...</td>\n",
       "      <td>SE 58TH AVE &amp; SE HAWTHORNE BLVD</td>\n",
       "      <td>7662910.091</td>\n",
       "      <td>679723.179</td>\n",
       "      <td>-122.603589</td>\n",
       "      <td>45.511838</td>\n",
       "      <td>2008-03-21</td>\n",
       "    </tr>\n",
       "  </tbody>\n",
       "</table>\n",
       "</div>"
      ],
      "text/plain": [
       "   Item_ID    Date_Created                                        Description  \\\n",
       "0   212361  1/10/2008 0:00                                    Request signal.   \n",
       "1   225059  3/13/2008 0:00  He requested a Control Plan to be drawn up by ...   \n",
       "2   225063  3/13/2008 0:00  Wants to know why her street is being torn up ...   \n",
       "3   226609  3/21/2008 0:00  There are only 3 stop signs at intersection an...   \n",
       "4   226619  3/21/2008 0:00  Requested that the diversion for traffic in he...   \n",
       "\n",
       "                  Problem_Location            X           Y   Longitude  \\\n",
       "0      SE 55TH AVE & SE BELMONT ST  7662127.698  681495.143 -122.606820   \n",
       "1         SW 4TH AVE & SW STARK ST  7644573.924  683377.729 -122.675475   \n",
       "2                 2314 SE 24TH AVE  7653283.000  677827.000 -122.640934   \n",
       "3      SE 8TH AVE & SE WOODWARD ST  7648923.134  676541.521 -122.657800   \n",
       "4  SE 58TH AVE & SE HAWTHORNE BLVD  7662910.091  679723.179 -122.603589   \n",
       "\n",
       "    Latitude       DATE  \n",
       "0  45.516641 2008-01-10  \n",
       "1  45.520526 2008-03-13  \n",
       "2  45.505946 2008-03-13  \n",
       "3  45.502103 2008-03-21  \n",
       "4  45.511838 2008-03-21  "
      ]
     },
     "execution_count": 20,
     "metadata": {},
     "output_type": "execute_result"
    }
   ],
   "source": [
    "df.head()"
   ]
  },
  {
   "cell_type": "code",
   "execution_count": 38,
   "metadata": {},
   "outputs": [
    {
     "data": {
      "text/plain": [
       "<matplotlib.axes._subplots.AxesSubplot at 0x2d0461bdbe0>"
      ]
     },
     "execution_count": 38,
     "metadata": {},
     "output_type": "execute_result"
    },
    {
     "data": {
      "image/png": "[encoded data removed]",
      "text/plain": [
       "<matplotlib.figure.Figure at 0x2d0461caef0>"
      ]
     },
     "metadata": {},
     "output_type": "display_data"
    }
   ],
   "source": [
    "#what are the most common months to call\n",
    "df[[\"DATE\", \"Item_ID\"]].groupby([df[\"DATE\"].dt.month]).count().plot()"
   ]
  },
  {
   "cell_type": "code",
   "execution_count": 58,
   "metadata": {},
   "outputs": [
    {
     "ename": "AttributeError",
     "evalue": "Cannot access callable attribute 'unstack' of 'DataFrameGroupBy' objects, try using the 'apply' method",
     "output_type": "error",
     "traceback": [
      "\u001b[1;31m---------------------------------------------------------------------------\u001b[0m",
      "\u001b[1;31mAttributeError\u001b[0m                            Traceback (most recent call last)",
      "\u001b[1;32m<ipython-input-58-c6c0cc5dd576>\u001b[0m in \u001b[0;36m<module>\u001b[1;34m()\u001b[0m\n\u001b[0;32m      1\u001b[0m \u001b[1;31m#show by month for each year\u001b[0m\u001b[1;33m\u001b[0m\u001b[1;33m\u001b[0m\u001b[0m\n\u001b[1;32m----> 2\u001b[1;33m \u001b[0mdf\u001b[0m\u001b[1;33m.\u001b[0m\u001b[0mgroupby\u001b[0m\u001b[1;33m(\u001b[0m\u001b[1;33m[\u001b[0m\u001b[1;34m'DATE'\u001b[0m\u001b[1;33m]\u001b[0m\u001b[1;33m)\u001b[0m\u001b[1;33m.\u001b[0m\u001b[0munstack\u001b[0m\u001b[1;33m(\u001b[0m\u001b[1;33m)\u001b[0m\u001b[1;33m.\u001b[0m\u001b[0mplot\u001b[0m\u001b[1;33m(\u001b[0m\u001b[1;33m)\u001b[0m\u001b[1;33m\u001b[0m\u001b[0m\n\u001b[0m",
      "\u001b[1;32m~\\AppData\\Local\\Continuum\\anaconda3\\lib\\site-packages\\pandas\\core\\groupby.py\u001b[0m in \u001b[0;36m__getattr__\u001b[1;34m(self, attr)\u001b[0m\n\u001b[0;32m    671\u001b[0m             \u001b[1;32mreturn\u001b[0m \u001b[0mself\u001b[0m\u001b[1;33m[\u001b[0m\u001b[0mattr\u001b[0m\u001b[1;33m]\u001b[0m\u001b[1;33m\u001b[0m\u001b[0m\n\u001b[0;32m    672\u001b[0m         \u001b[1;32mif\u001b[0m \u001b[0mhasattr\u001b[0m\u001b[1;33m(\u001b[0m\u001b[0mself\u001b[0m\u001b[1;33m.\u001b[0m\u001b[0mobj\u001b[0m\u001b[1;33m,\u001b[0m \u001b[0mattr\u001b[0m\u001b[1;33m)\u001b[0m\u001b[1;33m:\u001b[0m\u001b[1;33m\u001b[0m\u001b[0m\n\u001b[1;32m--> 673\u001b[1;33m             \u001b[1;32mreturn\u001b[0m \u001b[0mself\u001b[0m\u001b[1;33m.\u001b[0m\u001b[0m_make_wrapper\u001b[0m\u001b[1;33m(\u001b[0m\u001b[0mattr\u001b[0m\u001b[1;33m)\u001b[0m\u001b[1;33m\u001b[0m\u001b[0m\n\u001b[0m\u001b[0;32m    674\u001b[0m \u001b[1;33m\u001b[0m\u001b[0m\n\u001b[0;32m    675\u001b[0m         raise AttributeError(\"%r object has no attribute %r\" %\n",
      "\u001b[1;32m~\\AppData\\Local\\Continuum\\anaconda3\\lib\\site-packages\\pandas\\core\\groupby.py\u001b[0m in \u001b[0;36m_make_wrapper\u001b[1;34m(self, name)\u001b[0m\n\u001b[0;32m    685\u001b[0m                    \"using the 'apply' method\".format(kind, name,\n\u001b[0;32m    686\u001b[0m                                                      type(self).__name__))\n\u001b[1;32m--> 687\u001b[1;33m             \u001b[1;32mraise\u001b[0m \u001b[0mAttributeError\u001b[0m\u001b[1;33m(\u001b[0m\u001b[0mmsg\u001b[0m\u001b[1;33m)\u001b[0m\u001b[1;33m\u001b[0m\u001b[0m\n\u001b[0m\u001b[0;32m    688\u001b[0m \u001b[1;33m\u001b[0m\u001b[0m\n\u001b[0;32m    689\u001b[0m         \u001b[1;31m# need to setup the selection\u001b[0m\u001b[1;33m\u001b[0m\u001b[1;33m\u001b[0m\u001b[0m\n",
      "\u001b[1;31mAttributeError\u001b[0m: Cannot access callable attribute 'unstack' of 'DataFrameGroupBy' objects, try using the 'apply' method"
     ]
    }
   ],
   "source": [
    "#show by month for each year\n",
    "df.groupby(['DATE']).unstack().plot()"
   ]
  },
  {
   "cell_type": "code",
   "execution_count": 37,
   "metadata": {},
   "outputs": [
    {
     "data": {
      "text/plain": [
       "<matplotlib.axes._subplots.AxesSubplot at 0x2d045e5c400>"
      ]
     },
     "execution_count": 37,
     "metadata": {},
     "output_type": "execute_result"
    },
    {
     "data": {
      "image/png": "[encoded data removed]",
      "text/plain": [
       "<matplotlib.figure.Figure at 0x2d046157d30>"
      ]
     },
     "metadata": {},
     "output_type": "display_data"
    }
   ],
   "source": [
    "#all calls over time\n",
    "df[[\"DATE\", \"Item_ID\"]].groupby([df[\"DATE\"].dt.date]).count().plot()\n"
   ]
  },
  {
   "cell_type": "code",
   "execution_count": 61,
   "metadata": {},
   "outputs": [
    {
     "data": {
      "text/plain": [
       "DATE  DATE\n",
       "2017  6       400\n",
       "      5       373\n",
       "      10      345\n",
       "      7       322\n",
       "      8       306\n",
       "      3       269\n",
       "      9       248\n",
       "2018  1       229\n",
       "2017  11      216\n",
       "      4       215\n",
       "Name: DATE, dtype: int64"
      ]
     },
     "execution_count": 61,
     "metadata": {},
     "output_type": "execute_result"
    }
   ],
   "source": [
    "#top months for commenting on\n",
    "df['DATE'].groupby([df[\"DATE\"].dt.year, df[\"DATE\"].dt.month]).agg('count').nlargest(10)"
   ]
  },
  {
   "cell_type": "code",
   "execution_count": 62,
   "metadata": {},
   "outputs": [
    {
     "data": {
      "text/plain": [
       "DATE  DATE  DATE\n",
       "2017  5     30      73\n",
       "      9     27      53\n",
       "      10    17      51\n",
       "      5     4       48\n",
       "      6     9       47\n",
       "      8     28      46\n",
       "      10    16      40\n",
       "      6     19      39\n",
       "            23      39\n",
       "      3     17      37\n",
       "Name: DATE, dtype: int64"
      ]
     },
     "execution_count": 62,
     "metadata": {},
     "output_type": "execute_result"
    }
   ],
   "source": [
    "#top days\n",
    "#future idea, combine with weather?\n",
    "df['DATE'].groupby([df[\"DATE\"].dt.year, df[\"DATE\"].dt.month, df[\"DATE\"].dt.day]).agg('count').nlargest(10)"
   ]
  },
  {
   "cell_type": "code",
   "execution_count": null,
   "metadata": {},
   "outputs": [],
   "source": []
  },
  {
   "cell_type": "code",
   "execution_count": null,
   "metadata": {},
   "outputs": [],
   "source": []
  }
 ],
 "metadata": {
  "kernelspec": {
   "display_name": "Python 3",
   "language": "python",
   "name": "python3"
  },
  "language_info": {
   "codemirror_mode": {
    "name": "ipython",
    "version": 3
   },
   "file_extension": ".py",
   "mimetype": "text/x-python",
   "name": "python",
   "nbconvert_exporter": "python",
   "pygments_lexer": "ipython3",
   "version": "3.6.4"
  }
 },
 "nbformat": 4,
 "nbformat_minor": 2
}
